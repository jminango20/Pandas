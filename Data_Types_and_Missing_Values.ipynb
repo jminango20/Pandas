{
  "nbformat": 4,
  "nbformat_minor": 0,
  "metadata": {
    "colab": {
      "name": "Data Types and Missing Values.ipynb",
      "provenance": [],
      "mount_file_id": "1WcK-NNMpWhuNWzxU6hCwoaExxdr7FnF0",
      "authorship_tag": "ABX9TyOhEYmCAqtxc3zx2GwYPu/0",
      "include_colab_link": true
    },
    "kernelspec": {
      "name": "python3",
      "display_name": "Python 3"
    }
  },
  "cells": [
    {
      "cell_type": "markdown",
      "metadata": {
        "id": "view-in-github",
        "colab_type": "text"
      },
      "source": [
        "<a href=\"https://colab.research.google.com/github/jminango20/Pandas/blob/master/Data_Types_and_Missing_Values.ipynb\" target=\"_parent\"><img src=\"https://colab.research.google.com/assets/colab-badge.svg\" alt=\"Open In Colab\"/></a>"
      ]
    },
    {
      "cell_type": "markdown",
      "metadata": {
        "id": "QOXhASRPsej1",
        "colab_type": "text"
      },
      "source": [
        " We will learn how to investigate data types within a DataFrame or Series. You'll also learn how to find and replace entries."
      ]
    },
    {
      "cell_type": "code",
      "metadata": {
        "id": "O80_FXcusr0R",
        "colab_type": "code",
        "colab": {
          "base_uri": "https://localhost:8080/",
          "height": 296
        },
        "outputId": "7f7b0805-fbeb-4479-d6f6-4c285e4d07d9"
      },
      "source": [
        "import pandas as pd\n",
        "df = pd.read_csv('/content/drive/My Drive/Colab Notebooks/Pandas/winemag-data_first150k.csv')\n",
        "df.head()\n"
      ],
      "execution_count": 1,
      "outputs": [
        {
          "output_type": "execute_result",
          "data": {
            "text/html": [
              "<div>\n",
              "<style scoped>\n",
              "    .dataframe tbody tr th:only-of-type {\n",
              "        vertical-align: middle;\n",
              "    }\n",
              "\n",
              "    .dataframe tbody tr th {\n",
              "        vertical-align: top;\n",
              "    }\n",
              "\n",
              "    .dataframe thead th {\n",
              "        text-align: right;\n",
              "    }\n",
              "</style>\n",
              "<table border=\"1\" class=\"dataframe\">\n",
              "  <thead>\n",
              "    <tr style=\"text-align: right;\">\n",
              "      <th></th>\n",
              "      <th>Unnamed: 0</th>\n",
              "      <th>country</th>\n",
              "      <th>description</th>\n",
              "      <th>designation</th>\n",
              "      <th>points</th>\n",
              "      <th>price</th>\n",
              "      <th>province</th>\n",
              "      <th>region_1</th>\n",
              "      <th>region_2</th>\n",
              "      <th>variety</th>\n",
              "      <th>winery</th>\n",
              "    </tr>\n",
              "  </thead>\n",
              "  <tbody>\n",
              "    <tr>\n",
              "      <th>0</th>\n",
              "      <td>0</td>\n",
              "      <td>US</td>\n",
              "      <td>This tremendous 100% varietal wine hails from ...</td>\n",
              "      <td>Martha's Vineyard</td>\n",
              "      <td>96</td>\n",
              "      <td>235.0</td>\n",
              "      <td>California</td>\n",
              "      <td>Napa Valley</td>\n",
              "      <td>Napa</td>\n",
              "      <td>Cabernet Sauvignon</td>\n",
              "      <td>Heitz</td>\n",
              "    </tr>\n",
              "    <tr>\n",
              "      <th>1</th>\n",
              "      <td>1</td>\n",
              "      <td>Spain</td>\n",
              "      <td>Ripe aromas of fig, blackberry and cassis are ...</td>\n",
              "      <td>Carodorum Selección Especial Reserva</td>\n",
              "      <td>96</td>\n",
              "      <td>110.0</td>\n",
              "      <td>Northern Spain</td>\n",
              "      <td>Toro</td>\n",
              "      <td>NaN</td>\n",
              "      <td>Tinta de Toro</td>\n",
              "      <td>Bodega Carmen Rodríguez</td>\n",
              "    </tr>\n",
              "    <tr>\n",
              "      <th>2</th>\n",
              "      <td>2</td>\n",
              "      <td>US</td>\n",
              "      <td>Mac Watson honors the memory of a wine once ma...</td>\n",
              "      <td>Special Selected Late Harvest</td>\n",
              "      <td>96</td>\n",
              "      <td>90.0</td>\n",
              "      <td>California</td>\n",
              "      <td>Knights Valley</td>\n",
              "      <td>Sonoma</td>\n",
              "      <td>Sauvignon Blanc</td>\n",
              "      <td>Macauley</td>\n",
              "    </tr>\n",
              "    <tr>\n",
              "      <th>3</th>\n",
              "      <td>3</td>\n",
              "      <td>US</td>\n",
              "      <td>This spent 20 months in 30% new French oak, an...</td>\n",
              "      <td>Reserve</td>\n",
              "      <td>96</td>\n",
              "      <td>65.0</td>\n",
              "      <td>Oregon</td>\n",
              "      <td>Willamette Valley</td>\n",
              "      <td>Willamette Valley</td>\n",
              "      <td>Pinot Noir</td>\n",
              "      <td>Ponzi</td>\n",
              "    </tr>\n",
              "    <tr>\n",
              "      <th>4</th>\n",
              "      <td>4</td>\n",
              "      <td>France</td>\n",
              "      <td>This is the top wine from La Bégude, named aft...</td>\n",
              "      <td>La Brûlade</td>\n",
              "      <td>95</td>\n",
              "      <td>66.0</td>\n",
              "      <td>Provence</td>\n",
              "      <td>Bandol</td>\n",
              "      <td>NaN</td>\n",
              "      <td>Provence red blend</td>\n",
              "      <td>Domaine de la Bégude</td>\n",
              "    </tr>\n",
              "  </tbody>\n",
              "</table>\n",
              "</div>"
            ],
            "text/plain": [
              "   Unnamed: 0 country  ...             variety                   winery\n",
              "0           0      US  ...  Cabernet Sauvignon                    Heitz\n",
              "1           1   Spain  ...       Tinta de Toro  Bodega Carmen Rodríguez\n",
              "2           2      US  ...     Sauvignon Blanc                 Macauley\n",
              "3           3      US  ...          Pinot Noir                    Ponzi\n",
              "4           4  France  ...  Provence red blend     Domaine de la Bégude\n",
              "\n",
              "[5 rows x 11 columns]"
            ]
          },
          "metadata": {
            "tags": []
          },
          "execution_count": 1
        }
      ]
    },
    {
      "cell_type": "code",
      "metadata": {
        "id": "yC2Gl4TDtQ0_",
        "colab_type": "code",
        "colab": {
          "base_uri": "https://localhost:8080/",
          "height": 67
        },
        "outputId": "fe211528-a7ee-4b71-fb26-063a768b2a8c"
      },
      "source": [
        "df.columns"
      ],
      "execution_count": 2,
      "outputs": [
        {
          "output_type": "execute_result",
          "data": {
            "text/plain": [
              "Index(['Unnamed: 0', 'country', 'description', 'designation', 'points',\n",
              "       'price', 'province', 'region_1', 'region_2', 'variety', 'winery'],\n",
              "      dtype='object')"
            ]
          },
          "metadata": {
            "tags": []
          },
          "execution_count": 2
        }
      ]
    },
    {
      "cell_type": "code",
      "metadata": {
        "id": "64tGBX7BtYE3",
        "colab_type": "code",
        "colab": {}
      },
      "source": [
        "df.drop(columns='Unnamed: 0',inplace=True)"
      ],
      "execution_count": 3,
      "outputs": []
    },
    {
      "cell_type": "code",
      "metadata": {
        "id": "mS7OHUa0tf8g",
        "colab_type": "code",
        "colab": {
          "base_uri": "https://localhost:8080/",
          "height": 279
        },
        "outputId": "13fb4633-3e2b-473d-d773-81967678426a"
      },
      "source": [
        "df.head()"
      ],
      "execution_count": 4,
      "outputs": [
        {
          "output_type": "execute_result",
          "data": {
            "text/html": [
              "<div>\n",
              "<style scoped>\n",
              "    .dataframe tbody tr th:only-of-type {\n",
              "        vertical-align: middle;\n",
              "    }\n",
              "\n",
              "    .dataframe tbody tr th {\n",
              "        vertical-align: top;\n",
              "    }\n",
              "\n",
              "    .dataframe thead th {\n",
              "        text-align: right;\n",
              "    }\n",
              "</style>\n",
              "<table border=\"1\" class=\"dataframe\">\n",
              "  <thead>\n",
              "    <tr style=\"text-align: right;\">\n",
              "      <th></th>\n",
              "      <th>country</th>\n",
              "      <th>description</th>\n",
              "      <th>designation</th>\n",
              "      <th>points</th>\n",
              "      <th>price</th>\n",
              "      <th>province</th>\n",
              "      <th>region_1</th>\n",
              "      <th>region_2</th>\n",
              "      <th>variety</th>\n",
              "      <th>winery</th>\n",
              "    </tr>\n",
              "  </thead>\n",
              "  <tbody>\n",
              "    <tr>\n",
              "      <th>0</th>\n",
              "      <td>US</td>\n",
              "      <td>This tremendous 100% varietal wine hails from ...</td>\n",
              "      <td>Martha's Vineyard</td>\n",
              "      <td>96</td>\n",
              "      <td>235.0</td>\n",
              "      <td>California</td>\n",
              "      <td>Napa Valley</td>\n",
              "      <td>Napa</td>\n",
              "      <td>Cabernet Sauvignon</td>\n",
              "      <td>Heitz</td>\n",
              "    </tr>\n",
              "    <tr>\n",
              "      <th>1</th>\n",
              "      <td>Spain</td>\n",
              "      <td>Ripe aromas of fig, blackberry and cassis are ...</td>\n",
              "      <td>Carodorum Selección Especial Reserva</td>\n",
              "      <td>96</td>\n",
              "      <td>110.0</td>\n",
              "      <td>Northern Spain</td>\n",
              "      <td>Toro</td>\n",
              "      <td>NaN</td>\n",
              "      <td>Tinta de Toro</td>\n",
              "      <td>Bodega Carmen Rodríguez</td>\n",
              "    </tr>\n",
              "    <tr>\n",
              "      <th>2</th>\n",
              "      <td>US</td>\n",
              "      <td>Mac Watson honors the memory of a wine once ma...</td>\n",
              "      <td>Special Selected Late Harvest</td>\n",
              "      <td>96</td>\n",
              "      <td>90.0</td>\n",
              "      <td>California</td>\n",
              "      <td>Knights Valley</td>\n",
              "      <td>Sonoma</td>\n",
              "      <td>Sauvignon Blanc</td>\n",
              "      <td>Macauley</td>\n",
              "    </tr>\n",
              "    <tr>\n",
              "      <th>3</th>\n",
              "      <td>US</td>\n",
              "      <td>This spent 20 months in 30% new French oak, an...</td>\n",
              "      <td>Reserve</td>\n",
              "      <td>96</td>\n",
              "      <td>65.0</td>\n",
              "      <td>Oregon</td>\n",
              "      <td>Willamette Valley</td>\n",
              "      <td>Willamette Valley</td>\n",
              "      <td>Pinot Noir</td>\n",
              "      <td>Ponzi</td>\n",
              "    </tr>\n",
              "    <tr>\n",
              "      <th>4</th>\n",
              "      <td>France</td>\n",
              "      <td>This is the top wine from La Bégude, named aft...</td>\n",
              "      <td>La Brûlade</td>\n",
              "      <td>95</td>\n",
              "      <td>66.0</td>\n",
              "      <td>Provence</td>\n",
              "      <td>Bandol</td>\n",
              "      <td>NaN</td>\n",
              "      <td>Provence red blend</td>\n",
              "      <td>Domaine de la Bégude</td>\n",
              "    </tr>\n",
              "  </tbody>\n",
              "</table>\n",
              "</div>"
            ],
            "text/plain": [
              "  country  ...                   winery\n",
              "0      US  ...                    Heitz\n",
              "1   Spain  ...  Bodega Carmen Rodríguez\n",
              "2      US  ...                 Macauley\n",
              "3      US  ...                    Ponzi\n",
              "4  France  ...     Domaine de la Bégude\n",
              "\n",
              "[5 rows x 10 columns]"
            ]
          },
          "metadata": {
            "tags": []
          },
          "execution_count": 4
        }
      ]
    },
    {
      "cell_type": "markdown",
      "metadata": {
        "id": "UQyIUJgTtkFB",
        "colab_type": "text"
      },
      "source": [
        "## Dtypes\n",
        "The data type for a column in a DataFrame or a Series is known as the dtype."
      ]
    },
    {
      "cell_type": "code",
      "metadata": {
        "id": "2VyJjVCEtg_t",
        "colab_type": "code",
        "colab": {
          "base_uri": "https://localhost:8080/",
          "height": 34
        },
        "outputId": "7a92a19b-73cb-4ac2-e096-50049f8b6340"
      },
      "source": [
        "df.price.dtype"
      ],
      "execution_count": 5,
      "outputs": [
        {
          "output_type": "execute_result",
          "data": {
            "text/plain": [
              "dtype('float64')"
            ]
          },
          "metadata": {
            "tags": []
          },
          "execution_count": 5
        }
      ]
    },
    {
      "cell_type": "code",
      "metadata": {
        "id": "QOFGm13utqdk",
        "colab_type": "code",
        "colab": {
          "base_uri": "https://localhost:8080/",
          "height": 202
        },
        "outputId": "693baba2-4037-4220-c208-da128ef244c2"
      },
      "source": [
        "df.dtypes"
      ],
      "execution_count": 6,
      "outputs": [
        {
          "output_type": "execute_result",
          "data": {
            "text/plain": [
              "country         object\n",
              "description     object\n",
              "designation     object\n",
              "points           int64\n",
              "price          float64\n",
              "province        object\n",
              "region_1        object\n",
              "region_2        object\n",
              "variety         object\n",
              "winery          object\n",
              "dtype: object"
            ]
          },
          "metadata": {
            "tags": []
          },
          "execution_count": 6
        }
      ]
    },
    {
      "cell_type": "markdown",
      "metadata": {
        "id": "_-gyYA5Vt1yz",
        "colab_type": "text"
      },
      "source": [
        "It's possible to convert a column of one type into another wherever such a conversion makes sense by using the `astype()` function. For example, we may transform the points column from its existing int64 data type into a `float64` data type:"
      ]
    },
    {
      "cell_type": "code",
      "metadata": {
        "id": "Lr23HA_gtsjH",
        "colab_type": "code",
        "colab": {
          "base_uri": "https://localhost:8080/",
          "height": 218
        },
        "outputId": "841d3d7c-590d-4549-9bea-858a346037fb"
      },
      "source": [
        "df.points.astype('float64')"
      ],
      "execution_count": 7,
      "outputs": [
        {
          "output_type": "execute_result",
          "data": {
            "text/plain": [
              "0         96.0\n",
              "1         96.0\n",
              "2         96.0\n",
              "3         96.0\n",
              "4         95.0\n",
              "          ... \n",
              "150925    91.0\n",
              "150926    91.0\n",
              "150927    91.0\n",
              "150928    90.0\n",
              "150929    90.0\n",
              "Name: points, Length: 150930, dtype: float64"
            ]
          },
          "metadata": {
            "tags": []
          },
          "execution_count": 7
        }
      ]
    },
    {
      "cell_type": "markdown",
      "metadata": {
        "id": "m8wLUZzruTFG",
        "colab_type": "text"
      },
      "source": [
        "A DataFrame or Series index has its own `dtype`, too:"
      ]
    },
    {
      "cell_type": "code",
      "metadata": {
        "id": "4voK2nrKuF4O",
        "colab_type": "code",
        "colab": {
          "base_uri": "https://localhost:8080/",
          "height": 34
        },
        "outputId": "dd50520c-06ae-4f81-bd51-f57c0faf777b"
      },
      "source": [
        "df.index.dtype"
      ],
      "execution_count": 9,
      "outputs": [
        {
          "output_type": "execute_result",
          "data": {
            "text/plain": [
              "dtype('int64')"
            ]
          },
          "metadata": {
            "tags": []
          },
          "execution_count": 9
        }
      ]
    },
    {
      "cell_type": "markdown",
      "metadata": {
        "id": "9kyhmjDiubu5",
        "colab_type": "text"
      },
      "source": [
        "## Missing data\n",
        "Entries missing values are given the value `NaN`, short for \"Not a Number\". For technical reasons these NaN values are always of the float64 dtype.\n",
        "\n",
        "Pandas provides some methods specific to missing data. To select NaN entries you can use `pd.isnull()` (or its companion `pd.notnull()`). This is meant to be used thusly:"
      ]
    },
    {
      "cell_type": "code",
      "metadata": {
        "id": "vzssNFpcuXHj",
        "colab_type": "code",
        "colab": {
          "base_uri": "https://localhost:8080/",
          "height": 195
        },
        "outputId": "b1c389bc-82fa-477a-d2e4-dcd1abb2e061"
      },
      "source": [
        "df[pd.isnull(df.country)]"
      ],
      "execution_count": 10,
      "outputs": [
        {
          "output_type": "execute_result",
          "data": {
            "text/html": [
              "<div>\n",
              "<style scoped>\n",
              "    .dataframe tbody tr th:only-of-type {\n",
              "        vertical-align: middle;\n",
              "    }\n",
              "\n",
              "    .dataframe tbody tr th {\n",
              "        vertical-align: top;\n",
              "    }\n",
              "\n",
              "    .dataframe thead th {\n",
              "        text-align: right;\n",
              "    }\n",
              "</style>\n",
              "<table border=\"1\" class=\"dataframe\">\n",
              "  <thead>\n",
              "    <tr style=\"text-align: right;\">\n",
              "      <th></th>\n",
              "      <th>country</th>\n",
              "      <th>description</th>\n",
              "      <th>designation</th>\n",
              "      <th>points</th>\n",
              "      <th>price</th>\n",
              "      <th>province</th>\n",
              "      <th>region_1</th>\n",
              "      <th>region_2</th>\n",
              "      <th>variety</th>\n",
              "      <th>winery</th>\n",
              "    </tr>\n",
              "  </thead>\n",
              "  <tbody>\n",
              "    <tr>\n",
              "      <th>1133</th>\n",
              "      <td>NaN</td>\n",
              "      <td>Delicate white flowers and a spin of lemon pee...</td>\n",
              "      <td>Askitikos</td>\n",
              "      <td>90</td>\n",
              "      <td>17.0</td>\n",
              "      <td>NaN</td>\n",
              "      <td>NaN</td>\n",
              "      <td>NaN</td>\n",
              "      <td>Assyrtiko</td>\n",
              "      <td>Tsililis</td>\n",
              "    </tr>\n",
              "    <tr>\n",
              "      <th>1440</th>\n",
              "      <td>NaN</td>\n",
              "      <td>A blend of 60% Syrah, 30% Cabernet Sauvignon a...</td>\n",
              "      <td>Shah</td>\n",
              "      <td>90</td>\n",
              "      <td>30.0</td>\n",
              "      <td>NaN</td>\n",
              "      <td>NaN</td>\n",
              "      <td>NaN</td>\n",
              "      <td>Red Blend</td>\n",
              "      <td>Büyülübağ</td>\n",
              "    </tr>\n",
              "    <tr>\n",
              "      <th>68226</th>\n",
              "      <td>NaN</td>\n",
              "      <td>From first sniff to last, the nose never makes...</td>\n",
              "      <td>Piedra Feliz</td>\n",
              "      <td>81</td>\n",
              "      <td>15.0</td>\n",
              "      <td>NaN</td>\n",
              "      <td>NaN</td>\n",
              "      <td>NaN</td>\n",
              "      <td>Pinot Noir</td>\n",
              "      <td>Chilcas</td>\n",
              "    </tr>\n",
              "    <tr>\n",
              "      <th>113016</th>\n",
              "      <td>NaN</td>\n",
              "      <td>From first sniff to last, the nose never makes...</td>\n",
              "      <td>Piedra Feliz</td>\n",
              "      <td>81</td>\n",
              "      <td>15.0</td>\n",
              "      <td>NaN</td>\n",
              "      <td>NaN</td>\n",
              "      <td>NaN</td>\n",
              "      <td>Pinot Noir</td>\n",
              "      <td>Chilcas</td>\n",
              "    </tr>\n",
              "    <tr>\n",
              "      <th>135696</th>\n",
              "      <td>NaN</td>\n",
              "      <td>From first sniff to last, the nose never makes...</td>\n",
              "      <td>Piedra Feliz</td>\n",
              "      <td>81</td>\n",
              "      <td>15.0</td>\n",
              "      <td>NaN</td>\n",
              "      <td>NaN</td>\n",
              "      <td>NaN</td>\n",
              "      <td>Pinot Noir</td>\n",
              "      <td>Chilcas</td>\n",
              "    </tr>\n",
              "  </tbody>\n",
              "</table>\n",
              "</div>"
            ],
            "text/plain": [
              "       country  ...     winery\n",
              "1133       NaN  ...   Tsililis\n",
              "1440       NaN  ...  Büyülübağ\n",
              "68226      NaN  ...    Chilcas\n",
              "113016     NaN  ...    Chilcas\n",
              "135696     NaN  ...    Chilcas\n",
              "\n",
              "[5 rows x 10 columns]"
            ]
          },
          "metadata": {
            "tags": []
          },
          "execution_count": 10
        }
      ]
    },
    {
      "cell_type": "code",
      "metadata": {
        "id": "GkclkecXu2Ea",
        "colab_type": "code",
        "colab": {
          "base_uri": "https://localhost:8080/",
          "height": 279
        },
        "outputId": "4ed841e0-a5c7-41ad-fc70-c82fdec254ef"
      },
      "source": [
        "df.head()"
      ],
      "execution_count": 12,
      "outputs": [
        {
          "output_type": "execute_result",
          "data": {
            "text/html": [
              "<div>\n",
              "<style scoped>\n",
              "    .dataframe tbody tr th:only-of-type {\n",
              "        vertical-align: middle;\n",
              "    }\n",
              "\n",
              "    .dataframe tbody tr th {\n",
              "        vertical-align: top;\n",
              "    }\n",
              "\n",
              "    .dataframe thead th {\n",
              "        text-align: right;\n",
              "    }\n",
              "</style>\n",
              "<table border=\"1\" class=\"dataframe\">\n",
              "  <thead>\n",
              "    <tr style=\"text-align: right;\">\n",
              "      <th></th>\n",
              "      <th>country</th>\n",
              "      <th>description</th>\n",
              "      <th>designation</th>\n",
              "      <th>points</th>\n",
              "      <th>price</th>\n",
              "      <th>province</th>\n",
              "      <th>region_1</th>\n",
              "      <th>region_2</th>\n",
              "      <th>variety</th>\n",
              "      <th>winery</th>\n",
              "    </tr>\n",
              "  </thead>\n",
              "  <tbody>\n",
              "    <tr>\n",
              "      <th>0</th>\n",
              "      <td>US</td>\n",
              "      <td>This tremendous 100% varietal wine hails from ...</td>\n",
              "      <td>Martha's Vineyard</td>\n",
              "      <td>96</td>\n",
              "      <td>235.0</td>\n",
              "      <td>California</td>\n",
              "      <td>Napa Valley</td>\n",
              "      <td>Napa</td>\n",
              "      <td>Cabernet Sauvignon</td>\n",
              "      <td>Heitz</td>\n",
              "    </tr>\n",
              "    <tr>\n",
              "      <th>1</th>\n",
              "      <td>Spain</td>\n",
              "      <td>Ripe aromas of fig, blackberry and cassis are ...</td>\n",
              "      <td>Carodorum Selección Especial Reserva</td>\n",
              "      <td>96</td>\n",
              "      <td>110.0</td>\n",
              "      <td>Northern Spain</td>\n",
              "      <td>Toro</td>\n",
              "      <td>NaN</td>\n",
              "      <td>Tinta de Toro</td>\n",
              "      <td>Bodega Carmen Rodríguez</td>\n",
              "    </tr>\n",
              "    <tr>\n",
              "      <th>2</th>\n",
              "      <td>US</td>\n",
              "      <td>Mac Watson honors the memory of a wine once ma...</td>\n",
              "      <td>Special Selected Late Harvest</td>\n",
              "      <td>96</td>\n",
              "      <td>90.0</td>\n",
              "      <td>California</td>\n",
              "      <td>Knights Valley</td>\n",
              "      <td>Sonoma</td>\n",
              "      <td>Sauvignon Blanc</td>\n",
              "      <td>Macauley</td>\n",
              "    </tr>\n",
              "    <tr>\n",
              "      <th>3</th>\n",
              "      <td>US</td>\n",
              "      <td>This spent 20 months in 30% new French oak, an...</td>\n",
              "      <td>Reserve</td>\n",
              "      <td>96</td>\n",
              "      <td>65.0</td>\n",
              "      <td>Oregon</td>\n",
              "      <td>Willamette Valley</td>\n",
              "      <td>Willamette Valley</td>\n",
              "      <td>Pinot Noir</td>\n",
              "      <td>Ponzi</td>\n",
              "    </tr>\n",
              "    <tr>\n",
              "      <th>4</th>\n",
              "      <td>France</td>\n",
              "      <td>This is the top wine from La Bégude, named aft...</td>\n",
              "      <td>La Brûlade</td>\n",
              "      <td>95</td>\n",
              "      <td>66.0</td>\n",
              "      <td>Provence</td>\n",
              "      <td>Bandol</td>\n",
              "      <td>NaN</td>\n",
              "      <td>Provence red blend</td>\n",
              "      <td>Domaine de la Bégude</td>\n",
              "    </tr>\n",
              "  </tbody>\n",
              "</table>\n",
              "</div>"
            ],
            "text/plain": [
              "  country  ...                   winery\n",
              "0      US  ...                    Heitz\n",
              "1   Spain  ...  Bodega Carmen Rodríguez\n",
              "2      US  ...                 Macauley\n",
              "3      US  ...                    Ponzi\n",
              "4  France  ...     Domaine de la Bégude\n",
              "\n",
              "[5 rows x 10 columns]"
            ]
          },
          "metadata": {
            "tags": []
          },
          "execution_count": 12
        }
      ]
    },
    {
      "cell_type": "markdown",
      "metadata": {
        "id": "FVwoU1BYvAZg",
        "colab_type": "text"
      },
      "source": [
        "Replacing missing values is a common operation. Pandas provides a really handy method for this problem: `fillna()`. `fillna()` provides a few different strategies for mitigating such data. For example, we can simply replace each NaN with an \"Unknown\":"
      ]
    },
    {
      "cell_type": "code",
      "metadata": {
        "id": "adlqTs3lu5t_",
        "colab_type": "code",
        "colab": {
          "base_uri": "https://localhost:8080/",
          "height": 553
        },
        "outputId": "57f3ea18-7c6c-4474-9f68-c3b551ea0bdf"
      },
      "source": [
        "df[pd.isnull(df.region_2)]"
      ],
      "execution_count": 13,
      "outputs": [
        {
          "output_type": "execute_result",
          "data": {
            "text/html": [
              "<div>\n",
              "<style scoped>\n",
              "    .dataframe tbody tr th:only-of-type {\n",
              "        vertical-align: middle;\n",
              "    }\n",
              "\n",
              "    .dataframe tbody tr th {\n",
              "        vertical-align: top;\n",
              "    }\n",
              "\n",
              "    .dataframe thead th {\n",
              "        text-align: right;\n",
              "    }\n",
              "</style>\n",
              "<table border=\"1\" class=\"dataframe\">\n",
              "  <thead>\n",
              "    <tr style=\"text-align: right;\">\n",
              "      <th></th>\n",
              "      <th>country</th>\n",
              "      <th>description</th>\n",
              "      <th>designation</th>\n",
              "      <th>points</th>\n",
              "      <th>price</th>\n",
              "      <th>province</th>\n",
              "      <th>region_1</th>\n",
              "      <th>region_2</th>\n",
              "      <th>variety</th>\n",
              "      <th>winery</th>\n",
              "    </tr>\n",
              "  </thead>\n",
              "  <tbody>\n",
              "    <tr>\n",
              "      <th>1</th>\n",
              "      <td>Spain</td>\n",
              "      <td>Ripe aromas of fig, blackberry and cassis are ...</td>\n",
              "      <td>Carodorum Selección Especial Reserva</td>\n",
              "      <td>96</td>\n",
              "      <td>110.0</td>\n",
              "      <td>Northern Spain</td>\n",
              "      <td>Toro</td>\n",
              "      <td>NaN</td>\n",
              "      <td>Tinta de Toro</td>\n",
              "      <td>Bodega Carmen Rodríguez</td>\n",
              "    </tr>\n",
              "    <tr>\n",
              "      <th>4</th>\n",
              "      <td>France</td>\n",
              "      <td>This is the top wine from La Bégude, named aft...</td>\n",
              "      <td>La Brûlade</td>\n",
              "      <td>95</td>\n",
              "      <td>66.0</td>\n",
              "      <td>Provence</td>\n",
              "      <td>Bandol</td>\n",
              "      <td>NaN</td>\n",
              "      <td>Provence red blend</td>\n",
              "      <td>Domaine de la Bégude</td>\n",
              "    </tr>\n",
              "    <tr>\n",
              "      <th>5</th>\n",
              "      <td>Spain</td>\n",
              "      <td>Deep, dense and pure from the opening bell, th...</td>\n",
              "      <td>Numanthia</td>\n",
              "      <td>95</td>\n",
              "      <td>73.0</td>\n",
              "      <td>Northern Spain</td>\n",
              "      <td>Toro</td>\n",
              "      <td>NaN</td>\n",
              "      <td>Tinta de Toro</td>\n",
              "      <td>Numanthia</td>\n",
              "    </tr>\n",
              "    <tr>\n",
              "      <th>6</th>\n",
              "      <td>Spain</td>\n",
              "      <td>Slightly gritty black-fruit aromas include a s...</td>\n",
              "      <td>San Román</td>\n",
              "      <td>95</td>\n",
              "      <td>65.0</td>\n",
              "      <td>Northern Spain</td>\n",
              "      <td>Toro</td>\n",
              "      <td>NaN</td>\n",
              "      <td>Tinta de Toro</td>\n",
              "      <td>Maurodos</td>\n",
              "    </tr>\n",
              "    <tr>\n",
              "      <th>7</th>\n",
              "      <td>Spain</td>\n",
              "      <td>Lush cedary black-fruit aromas are luxe and of...</td>\n",
              "      <td>Carodorum Único Crianza</td>\n",
              "      <td>95</td>\n",
              "      <td>110.0</td>\n",
              "      <td>Northern Spain</td>\n",
              "      <td>Toro</td>\n",
              "      <td>NaN</td>\n",
              "      <td>Tinta de Toro</td>\n",
              "      <td>Bodega Carmen Rodríguez</td>\n",
              "    </tr>\n",
              "    <tr>\n",
              "      <th>...</th>\n",
              "      <td>...</td>\n",
              "      <td>...</td>\n",
              "      <td>...</td>\n",
              "      <td>...</td>\n",
              "      <td>...</td>\n",
              "      <td>...</td>\n",
              "      <td>...</td>\n",
              "      <td>...</td>\n",
              "      <td>...</td>\n",
              "      <td>...</td>\n",
              "    </tr>\n",
              "    <tr>\n",
              "      <th>150925</th>\n",
              "      <td>Italy</td>\n",
              "      <td>Many people feel Fiano represents southern Ita...</td>\n",
              "      <td>NaN</td>\n",
              "      <td>91</td>\n",
              "      <td>20.0</td>\n",
              "      <td>Southern Italy</td>\n",
              "      <td>Fiano di Avellino</td>\n",
              "      <td>NaN</td>\n",
              "      <td>White Blend</td>\n",
              "      <td>Feudi di San Gregorio</td>\n",
              "    </tr>\n",
              "    <tr>\n",
              "      <th>150926</th>\n",
              "      <td>France</td>\n",
              "      <td>Offers an intriguing nose with ginger, lime an...</td>\n",
              "      <td>Cuvée Prestige</td>\n",
              "      <td>91</td>\n",
              "      <td>27.0</td>\n",
              "      <td>Champagne</td>\n",
              "      <td>Champagne</td>\n",
              "      <td>NaN</td>\n",
              "      <td>Champagne Blend</td>\n",
              "      <td>H.Germain</td>\n",
              "    </tr>\n",
              "    <tr>\n",
              "      <th>150927</th>\n",
              "      <td>Italy</td>\n",
              "      <td>This classic example comes from a cru vineyard...</td>\n",
              "      <td>Terre di Dora</td>\n",
              "      <td>91</td>\n",
              "      <td>20.0</td>\n",
              "      <td>Southern Italy</td>\n",
              "      <td>Fiano di Avellino</td>\n",
              "      <td>NaN</td>\n",
              "      <td>White Blend</td>\n",
              "      <td>Terredora</td>\n",
              "    </tr>\n",
              "    <tr>\n",
              "      <th>150928</th>\n",
              "      <td>France</td>\n",
              "      <td>A perfect salmon shade, with scents of peaches...</td>\n",
              "      <td>Grand Brut Rosé</td>\n",
              "      <td>90</td>\n",
              "      <td>52.0</td>\n",
              "      <td>Champagne</td>\n",
              "      <td>Champagne</td>\n",
              "      <td>NaN</td>\n",
              "      <td>Champagne Blend</td>\n",
              "      <td>Gosset</td>\n",
              "    </tr>\n",
              "    <tr>\n",
              "      <th>150929</th>\n",
              "      <td>Italy</td>\n",
              "      <td>More Pinot Grigios should taste like this. A r...</td>\n",
              "      <td>NaN</td>\n",
              "      <td>90</td>\n",
              "      <td>15.0</td>\n",
              "      <td>Northeastern Italy</td>\n",
              "      <td>Alto Adige</td>\n",
              "      <td>NaN</td>\n",
              "      <td>Pinot Grigio</td>\n",
              "      <td>Alois Lageder</td>\n",
              "    </tr>\n",
              "  </tbody>\n",
              "</table>\n",
              "<p>89977 rows × 10 columns</p>\n",
              "</div>"
            ],
            "text/plain": [
              "       country  ...                   winery\n",
              "1        Spain  ...  Bodega Carmen Rodríguez\n",
              "4       France  ...     Domaine de la Bégude\n",
              "5        Spain  ...                Numanthia\n",
              "6        Spain  ...                 Maurodos\n",
              "7        Spain  ...  Bodega Carmen Rodríguez\n",
              "...        ...  ...                      ...\n",
              "150925   Italy  ...    Feudi di San Gregorio\n",
              "150926  France  ...                H.Germain\n",
              "150927   Italy  ...                Terredora\n",
              "150928  France  ...                   Gosset\n",
              "150929   Italy  ...            Alois Lageder\n",
              "\n",
              "[89977 rows x 10 columns]"
            ]
          },
          "metadata": {
            "tags": []
          },
          "execution_count": 13
        }
      ]
    },
    {
      "cell_type": "code",
      "metadata": {
        "id": "tSCSwHWwvL1k",
        "colab_type": "code",
        "colab": {
          "base_uri": "https://localhost:8080/",
          "height": 218
        },
        "outputId": "9c55975c-5b14-4be6-d357-ba77ba32a266"
      },
      "source": [
        "df.region_2.fillna('Unknow')"
      ],
      "execution_count": 14,
      "outputs": [
        {
          "output_type": "execute_result",
          "data": {
            "text/plain": [
              "0                      Napa\n",
              "1                    Unknow\n",
              "2                    Sonoma\n",
              "3         Willamette Valley\n",
              "4                    Unknow\n",
              "                ...        \n",
              "150925               Unknow\n",
              "150926               Unknow\n",
              "150927               Unknow\n",
              "150928               Unknow\n",
              "150929               Unknow\n",
              "Name: region_2, Length: 150930, dtype: object"
            ]
          },
          "metadata": {
            "tags": []
          },
          "execution_count": 14
        }
      ]
    },
    {
      "cell_type": "code",
      "metadata": {
        "id": "ySmtjb4rvUho",
        "colab_type": "code",
        "colab": {
          "base_uri": "https://localhost:8080/",
          "height": 67
        },
        "outputId": "200f4c81-74e8-442e-dcbe-f75fbf17fc1c"
      },
      "source": [
        "df.columns"
      ],
      "execution_count": 15,
      "outputs": [
        {
          "output_type": "execute_result",
          "data": {
            "text/plain": [
              "Index(['country', 'description', 'designation', 'points', 'price', 'province',\n",
              "       'region_1', 'region_2', 'variety', 'winery'],\n",
              "      dtype='object')"
            ]
          },
          "metadata": {
            "tags": []
          },
          "execution_count": 15
        }
      ]
    },
    {
      "cell_type": "code",
      "metadata": {
        "id": "L3_ONCqSvhc9",
        "colab_type": "code",
        "colab": {}
      },
      "source": [
        ""
      ],
      "execution_count": null,
      "outputs": []
    }
  ]
}